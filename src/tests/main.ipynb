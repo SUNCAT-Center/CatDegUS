{
 "cells": [
  {
   "cell_type": "code",
   "execution_count": null,
   "id": "04d1bfcc",
   "metadata": {},
   "outputs": [],
   "source": [
    "import os\n",
    "\n",
    "import src.active_learning.acquisition as aq\n",
    "import src.active_learning.gaussian_process as gpc\n",
    "import src.visualization.plot as pl\n",
    "\n",
    "# Define the home directory and path to data\n",
    "home_dir = os.path.expanduser(\"~\")\n",
    "\n",
    "# Target metric: initial CO2 conversion\n",
    "path = (home_dir +\n",
    "        \"/Dropbox/0.Dongjae/04.SUNCAT@SLAC,Standford(2402~)/231128_research/240602_ML_codes/CatDegUS/src/tests/20250228_sheet_for_ML_unique.xlsx\")"
   ]
  },
  {
   "cell_type": "markdown",
   "id": "e5d756d9",
   "metadata": {},
   "source": [
    "### Preprocess data and train a Gaussian process model \n",
    "* `path`: path to data file (excel)"
   ]
  },
  {
   "cell_type": "code",
   "execution_count": null,
   "id": "edcca040",
   "metadata": {},
   "outputs": [],
   "source": [
    "# Train the Gaussian Process model\n",
    "GP = gpc.GaussianProcess()\n",
    "GP.preprocess_data_at_once(path=path,\n",
    "                           target='CO2 Conversion (%)_initial value',\n",
    "                           x_range_min=[300, 0.1, 0.005, 0], x_range_max=[550, 1.0, 0.02, 1])\n",
    "GP.train_gp()"
   ]
  },
  {
   "cell_type": "markdown",
   "id": "5bcc907d",
   "metadata": {},
   "source": [
    "### Construct a discrete grid for the optimization of an acquisition function\n",
    "* Acquisition function to optimize is set by choosing `optimize_*` method."
   ]
  },
  {
   "cell_type": "code",
   "execution_count": null,
   "id": "a7c3559f",
   "metadata": {},
   "outputs": [],
   "source": [
    "# Construct the discrete grid for optimization\n",
    "Grid = aq.DiscreteGrid(\n",
    "    GP=GP,\n",
    "    x_range_min=[300, 0.1, 0.005, 0], x_range_max=[550, 1.0, 0.02, 1], x_step=[50, 0.1, 0.0025, 1]\n",
    ")\n",
    "Grid.construct_grid()\n",
    "\n",
    "Grid.optimize_posterior_std_dev_discrete(synth_method='NP', n_candidates=5)\n",
    "# Grid.optimize_upper_confidence_bound_discrete(synth_method='NP', n_candidates=5)"
   ]
  },
  {
   "cell_type": "markdown",
   "id": "4508c020",
   "metadata": {},
   "source": [
    "### Plot the acquisition function\n",
    "* The acquisition function was determined by a `DiscreteGrid` instance, e.g., `PosteriorStandardDeviation`"
   ]
  },
  {
   "cell_type": "code",
   "execution_count": null,
   "id": "d175bb8a",
   "metadata": {},
   "outputs": [],
   "source": [
    "# Plot the acquisition function\n",
    "Plot = pl.Plotter(GP=GP, Grid=Grid)\n",
    "Plot.plot_2d_acquisition_function(\n",
    "    synth_method='WI',\n",
    "    acq_max=1.1,\n",
    "    n_levels=32,\n",
    "    temperature_list=[300], #350, 400, 450, 500, 550],\n",
    "    mode='custom', #'boundary',\n",
    "    custom_range=(0.0, 6.0, 0.0, 0.05),  # Custom range for contour plot\n",
    "    contour_resolution=50\n",
    ")"
   ]
  }
 ],
 "metadata": {
  "language_info": {
   "name": "python"
  }
 },
 "nbformat": 4,
 "nbformat_minor": 5
}
