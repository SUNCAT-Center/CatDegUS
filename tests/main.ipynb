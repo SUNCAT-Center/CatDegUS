{
 "cells": [
  {
   "cell_type": "markdown",
   "id": "5b9866f2",
   "metadata": {},
   "source": [
    "### Set path to a data file"
   ]
  },
  {
   "cell_type": "code",
   "execution_count": 1,
   "id": "04d1bfcc",
   "metadata": {},
   "outputs": [
    {
     "name": "stderr",
     "output_type": "stream",
     "text": [
      "/Users/djayshin/miniconda3/envs/catdegus/lib/python3.13/site-packages/tqdm/auto.py:21: TqdmWarning: IProgress not found. Please update jupyter and ipywidgets. See https://ipywidgets.readthedocs.io/en/stable/user_install.html\n",
      "  from .autonotebook import tqdm as notebook_tqdm\n"
     ]
    }
   ],
   "source": [
    "import os, sys\n",
    "\n",
    "# Add the project root to sys.path so I can import submodules\n",
    "project_root = os.path.abspath(os.path.join(os.getcwd(), \"..\"))\n",
    "if project_root not in sys.path:\n",
    "    sys.path.insert(0, project_root)\n",
    "\n",
    "import src.active_learning.acquisition as aq\n",
    "import src.active_learning.gaussian_process as gpc\n",
    "import src.visualization.plot as pl\n",
    "\n",
    "# Define the home directory and path to data\n",
    "home_dir = os.path.expanduser(\"~\")\n",
    "\n",
    "# Target metric: initial CO2 conversion\n",
    "# path = (home_dir +\n",
    "#         \"/Dropbox/0.Dongjae/04.SUNCAT@SLAC,Standford(2402~)/231128_research/240602_ML_codes/CatDegUS/src/tests/20250228_sheet_for_ML_unique.xlsx\")\n",
    "path = \"./20250228_sheet_for_ML_unique.xlsx\""
   ]
  },
  {
   "cell_type": "markdown",
   "id": "e5d756d9",
   "metadata": {},
   "source": [
    "### Preprocess data and train a Gaussian process model \n",
    "* `path`: path to data file (excel)"
   ]
  },
  {
   "cell_type": "code",
   "execution_count": 2,
   "id": "edcca040",
   "metadata": {},
   "outputs": [
    {
     "name": "stdout",
     "output_type": "stream",
     "text": [
      "self.df.dtypes: reaction_temp                         int64\n",
      "Rh_weight_loading                   float64\n",
      "Rh_total_mass                       float64\n",
      "synth_method                          int64\n",
      "CO2 Conversion (%)_initial value    float64\n",
      "dtype: object\n",
      "numerical_features (selected):  ['reaction_temp', 'Rh_weight_loading', 'Rh_total_mass', 'synth_method']\n",
      "categorical_features (selected):  []\n"
     ]
    },
    {
     "name": "stderr",
     "output_type": "stream",
     "text": [
      "/Users/djayshin/Dropbox/0.Dongjae/04.SUNCAT@SLAC,Standford(2402~)/231128_research/240602_ML_codes/CatDegUS/src/active_learning/gaussian_process.py:92: FutureWarning: Downcasting behavior in `replace` is deprecated and will be removed in a future version. To retain the old behavior, explicitly call `result.infer_objects(copy=False)`. To opt-in to the future behavior, set `pd.set_option('future.no_silent_downcasting', True)`\n",
      "  self.df.replace(\n",
      "/Users/djayshin/miniconda3/envs/catdegus/lib/python3.13/site-packages/sklearn/utils/validation.py:2739: UserWarning: X does not have valid feature names, but FunctionTransformer was fitted with feature names\n",
      "  warnings.warn(\n",
      "/Users/djayshin/miniconda3/envs/catdegus/lib/python3.13/site-packages/botorch/models/utils/assorted.py:270: InputDataWarning: Data (input features) is not contained to the unit cube. Please consider min-max scaling the input data.\n",
      "  check_min_max_scaling(\n"
     ]
    },
    {
     "data": {
      "text/plain": [
       "SingleTaskGP(\n",
       "  (likelihood): GaussianLikelihood(\n",
       "    (noise_covar): HomoskedasticNoise(\n",
       "      (noise_prior): LogNormalPrior()\n",
       "      (raw_noise_constraint): GreaterThan(1.000E-04)\n",
       "    )\n",
       "  )\n",
       "  (mean_module): ConstantMean()\n",
       "  (covar_module): RBFKernel(\n",
       "    (lengthscale_prior): LogNormalPrior()\n",
       "    (raw_lengthscale_constraint): GreaterThan(2.500E-02)\n",
       "  )\n",
       "  (outcome_transform): Standardize()\n",
       ")"
      ]
     },
     "execution_count": 2,
     "metadata": {},
     "output_type": "execute_result"
    }
   ],
   "source": [
    "# Train the Gaussian Process model\n",
    "GP = gpc.GaussianProcess()\n",
    "GP.preprocess_data_at_once(path=path,\n",
    "                           target='CO2 Conversion (%)_initial value',\n",
    "                           x_range_min=[300, 0.1, 0.005, 0], x_range_max=[550, 1.0, 0.02, 1])\n",
    "GP.train_gp()"
   ]
  },
  {
   "cell_type": "markdown",
   "id": "5bcc907d",
   "metadata": {},
   "source": [
    "### Construct a discrete grid for the optimization of an acquisition function\n",
    "* Acquisition function to optimize is set by choosing `optimize_*` method.\n",
    "* Then, maximizer condition of the selected acquisition function (`PosteriorStandardDeviation` in this example) is printed."
   ]
  },
  {
   "cell_type": "code",
   "execution_count": 3,
   "id": "a7c3559f",
   "metadata": {},
   "outputs": [
    {
     "name": "stdout",
     "output_type": "stream",
     "text": [
      "840 combinations are possible in the constructed grid.\n"
     ]
    },
    {
     "data": {
      "application/vnd.microsoft.datawrangler.viewer.v0+json": {
       "columns": [
        {
         "name": "index",
         "rawType": "int64",
         "type": "integer"
        },
        {
         "name": "reaction_temp",
         "rawType": "int64",
         "type": "integer"
        },
        {
         "name": "Rh_weight_loading",
         "rawType": "float64",
         "type": "float"
        },
        {
         "name": "Rh_total_mass",
         "rawType": "float64",
         "type": "float"
        },
        {
         "name": "synth_method",
         "rawType": "int64",
         "type": "integer"
        },
        {
         "name": "Posterior Standard Deviation",
         "rawType": "float64",
         "type": "float"
        }
       ],
       "ref": "faf8b1c6-3158-471b-8c27-42bd92d1ed4e",
       "rows": [
        [
         "413",
         "550",
         "1.0",
         "0.005",
         "1",
         "0.9992530124607547"
        ],
        [
         "414",
         "550",
         "1.0",
         "0.0075",
         "1",
         "0.9915647111199622"
        ],
        [
         "415",
         "550",
         "1.0",
         "0.01",
         "1",
         "0.9830614825764555"
        ],
        [
         "416",
         "550",
         "1.0",
         "0.0125",
         "1",
         "0.9738553774458076"
        ],
        [
         "41",
         "300",
         "0.6",
         "0.02",
         "1",
         "0.9714498938923743"
        ]
       ],
       "shape": {
        "columns": 5,
        "rows": 5
       }
      },
      "text/html": [
       "<div>\n",
       "<style scoped>\n",
       "    .dataframe tbody tr th:only-of-type {\n",
       "        vertical-align: middle;\n",
       "    }\n",
       "\n",
       "    .dataframe tbody tr th {\n",
       "        vertical-align: top;\n",
       "    }\n",
       "\n",
       "    .dataframe thead th {\n",
       "        text-align: right;\n",
       "    }\n",
       "</style>\n",
       "<table border=\"1\" class=\"dataframe\">\n",
       "  <thead>\n",
       "    <tr style=\"text-align: right;\">\n",
       "      <th></th>\n",
       "      <th>reaction_temp</th>\n",
       "      <th>Rh_weight_loading</th>\n",
       "      <th>Rh_total_mass</th>\n",
       "      <th>synth_method</th>\n",
       "      <th>Posterior Standard Deviation</th>\n",
       "    </tr>\n",
       "  </thead>\n",
       "  <tbody>\n",
       "    <tr>\n",
       "      <th>413</th>\n",
       "      <td>550</td>\n",
       "      <td>1.0</td>\n",
       "      <td>0.0050</td>\n",
       "      <td>1</td>\n",
       "      <td>0.999253</td>\n",
       "    </tr>\n",
       "    <tr>\n",
       "      <th>414</th>\n",
       "      <td>550</td>\n",
       "      <td>1.0</td>\n",
       "      <td>0.0075</td>\n",
       "      <td>1</td>\n",
       "      <td>0.991565</td>\n",
       "    </tr>\n",
       "    <tr>\n",
       "      <th>415</th>\n",
       "      <td>550</td>\n",
       "      <td>1.0</td>\n",
       "      <td>0.0100</td>\n",
       "      <td>1</td>\n",
       "      <td>0.983061</td>\n",
       "    </tr>\n",
       "    <tr>\n",
       "      <th>416</th>\n",
       "      <td>550</td>\n",
       "      <td>1.0</td>\n",
       "      <td>0.0125</td>\n",
       "      <td>1</td>\n",
       "      <td>0.973855</td>\n",
       "    </tr>\n",
       "    <tr>\n",
       "      <th>41</th>\n",
       "      <td>300</td>\n",
       "      <td>0.6</td>\n",
       "      <td>0.0200</td>\n",
       "      <td>1</td>\n",
       "      <td>0.971450</td>\n",
       "    </tr>\n",
       "  </tbody>\n",
       "</table>\n",
       "</div>"
      ],
      "text/plain": [
       "     reaction_temp  Rh_weight_loading  Rh_total_mass  synth_method  \\\n",
       "413            550                1.0         0.0050             1   \n",
       "414            550                1.0         0.0075             1   \n",
       "415            550                1.0         0.0100             1   \n",
       "416            550                1.0         0.0125             1   \n",
       "41             300                0.6         0.0200             1   \n",
       "\n",
       "     Posterior Standard Deviation  \n",
       "413                      0.999253  \n",
       "414                      0.991565  \n",
       "415                      0.983061  \n",
       "416                      0.973855  \n",
       "41                       0.971450  "
      ]
     },
     "execution_count": 3,
     "metadata": {},
     "output_type": "execute_result"
    }
   ],
   "source": [
    "# Construct the discrete grid for optimization\n",
    "Grid = aq.DiscreteGrid(\n",
    "    GP=GP,\n",
    "    x_range_min=[300, 0.1, 0.005, 0], x_range_max=[550, 1.0, 0.02, 1], x_step=[50, 0.1, 0.0025, 1]\n",
    ")\n",
    "Grid.construct_grid()\n",
    "\n",
    "Grid.optimize_posterior_std_dev_discrete(synth_method='NP', n_candidates=5)\n",
    "# Grid.optimize_upper_confidence_bound_discrete(synth_method='NP', n_candidates=5)"
   ]
  },
  {
   "cell_type": "markdown",
   "id": "4508c020",
   "metadata": {},
   "source": [
    "### Plot the acquisition function\n",
    "* The acquisition function was determined by a `DiscreteGrid` instance, e.g., `PosteriorStandardDeviation`"
   ]
  },
  {
   "cell_type": "code",
   "execution_count": 4,
   "id": "d175bb8a",
   "metadata": {},
   "outputs": [
    {
     "data": {
      "image/png": "[encoded data removed]",
      "text/plain": [
       "<Figure size 650x500 with 2 Axes>"
      ]
     },
     "metadata": {},
     "output_type": "display_data"
    }
   ],
   "source": [
    "# Plot the acquisition function\n",
    "Plot = pl.Plotter(GP=GP, Grid=Grid)\n",
    "Plot.plot_2d_acquisition_function(\n",
    "    synth_method='WI',\n",
    "    acq_max=1.1,\n",
    "    n_levels=32,\n",
    "    temperature_list=[300], #350, 400, 450, 500, 550],\n",
    "    mode='custom', #'boundary',\n",
    "    custom_range=(0.0, 6.0, 0.0, 0.05),  # Custom range for contour plot\n",
    "    contour_resolution=50\n",
    ")\n"
   ]
  },
  {
   "cell_type": "code",
   "execution_count": null,
   "id": "4aba40fd",
   "metadata": {},
   "outputs": [],
   "source": []
  }
 ],
 "metadata": {
  "kernelspec": {
   "display_name": "catdegus",
   "language": "python",
   "name": "python3"
  },
  "language_info": {
   "codemirror_mode": {
    "name": "ipython",
    "version": 3
   },
   "file_extension": ".py",
   "mimetype": "text/x-python",
   "name": "python",
   "nbconvert_exporter": "python",
   "pygments_lexer": "ipython3",
   "version": "3.13.2"
  }
 },
 "nbformat": 4,
 "nbformat_minor": 5
}
